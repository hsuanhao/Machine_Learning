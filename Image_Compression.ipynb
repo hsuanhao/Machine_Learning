{
 "cells": [
  {
   "cell_type": "markdown",
   "metadata": {},
   "source": [
    "# Compress Image\n",
    "\n",
    "In this exercise, I implement the **K-means clustering algorithm** and apply it to **compress an image**. I will first start on an example 2D dataset that will help us gain an intuition of how the K-means algorithm works. After this, I will use the K-means algorithm for image compression by reducing the number of colors occuring in an image to only those most common in that image. In this work, I mainly use **MATLAB/Octave** to write codes. "
   ]
  },
  {
   "cell_type": "markdown",
   "metadata": {},
   "source": [
    "## 1. Implement K-means ##\n",
    "\n",
    "The K-means algorithm is a method to automatically cluster similar data samples together. In practice, we are given a training set $\\{x^{(1)},\\ldots, x^{(m)}\\}$, where $x^{(i)} \\in \\mathbb{R}^n$), and want to group the data into a few _clusters_ , $K$. \n",
    "\n",
    "The K-means algorithm is outlined in the following:\n",
    "\n",
    "```octave\n",
    "% Initialize centroids\n",
    "centroids = kMeansInitCentroids(X, K);\n",
    "for iter = 1: iterations\n",
    "    % Cluster assignment step: Assign each data point to the closest centroid.\n",
    "    % idx(i) corresponds to label of centroid, or the index of the centroid assigned to example i.\n",
    "    idx = findClosestCentroids(X, centroids);\n",
    "    \n",
    "    % Move centroid step: Compute means based on centroid assignments\n",
    "    centroids = computeMeans(X, idx, K)\n",
    "\n",
    "endfor\n",
    "```\n",
    "\n",
    "The algorithm repeatedly carries out two steps: (i) Assigning each training example $x^{(i)}$ to its closest centroid, and (ii) Recomputing the mean of each centroid using the points assigned to it. The K-means algorithm will always converge to some final set of means for centroids. Note that the converged solution may not always be global minimum, and it depends on the initial setting of the centroids indeed. This is why one has to run a few times with different random initializations.\n",
    "\n",
    "- `findClosestCentroids(X, centroids)` is the function to assign every training example $x^{(i)}$ to its closes centroid,\n",
    "\n",
    "$$c^{(i)} := j \\text{ that minimizes } ||x^{(i)}-\\mu_j||^2 $$\n",
    "\n",
    "where $c^{(i)}$ is the index of the centroid that is closest to $x^{(i)}$, and $\\mu_j$ is the position of the $j$'th centroid.\n",
    "\n",
    "- `computeMeans(X, idx, K)` is the function to recompute, for each centroid, the mean of the points that were assigned to it.\n",
    "\n",
    "$$ \\mu_k := \\frac{1}{|C_k|} \\sum_{i\\in C_k} x^{(i)},$$\n",
    "\n",
    "where $C_k$ is the set of examples assigned to centroid $k$, and $|C_k|$ is number of examples assigned to centroid $k$.\n"
   ]
  },
  {
   "cell_type": "code",
   "execution_count": null,
   "metadata": {},
   "outputs": [],
   "source": []
  }
 ],
 "metadata": {
  "kernelspec": {
   "display_name": "Python 3",
   "language": "python",
   "name": "python3"
  },
  "language_info": {
   "codemirror_mode": {
    "name": "ipython",
    "version": 3
   },
   "file_extension": ".py",
   "mimetype": "text/x-python",
   "name": "python",
   "nbconvert_exporter": "python",
   "pygments_lexer": "ipython3",
   "version": "3.6.4"
  }
 },
 "nbformat": 4,
 "nbformat_minor": 2
}
