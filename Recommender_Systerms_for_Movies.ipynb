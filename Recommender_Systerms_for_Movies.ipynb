{
 "cells": [
  {
   "cell_type": "markdown",
   "metadata": {},
   "source": [
    "# Recommender Systerms for Movies\n",
    "\n",
    "I will implement the **collaborative filtering learning algorithm** and apply it to a dataset of movie ratings from [MovieLens 100k Dataset](https://grouplens.org/datasets/movielens/) from GroupLens Research. This dataset consists of ratings on a scale of 1 to 5. Also, if users did not give rating on movies, the ratings are assigned to 0. The dataset has $n_u = 943$ users, and $n_m = 1682$ movies. \n",
    "\n",
    "To complete this task, I will implement the function `cofiCostFunc.m` by **Octave/MATLAB** that computes the collaborative filtering objective function and gradient. After implementing the cost function and gradient, I will use `fmincg.m` to learn the parameters for collaborative filtering. "
   ]
  },
  {
   "cell_type": "code",
   "execution_count": null,
   "metadata": {},
   "outputs": [],
   "source": []
  }
 ],
 "metadata": {
  "kernelspec": {
   "display_name": "Python 3",
   "language": "python",
   "name": "python3"
  },
  "language_info": {
   "codemirror_mode": {
    "name": "ipython",
    "version": 3
   },
   "file_extension": ".py",
   "mimetype": "text/x-python",
   "name": "python",
   "nbconvert_exporter": "python",
   "pygments_lexer": "ipython3",
   "version": "3.6.4"
  }
 },
 "nbformat": 4,
 "nbformat_minor": 2
}
